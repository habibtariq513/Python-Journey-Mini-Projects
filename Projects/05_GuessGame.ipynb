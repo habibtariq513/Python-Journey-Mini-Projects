{
 "cells": [
  {
   "cell_type": "markdown",
   "id": "c103bb5a",
   "metadata": {},
   "source": [
    "# **Number Guessing Game**"
   ]
  },
  {
   "cell_type": "code",
   "execution_count": 1,
   "id": "faa1c3dd",
   "metadata": {},
   "outputs": [
    {
     "name": "stdout",
     "output_type": "stream",
     "text": [
      "1.| Choose a bit Higher Number\n",
      "\n",
      "2.| Choose a bit Higher Number\n",
      "\n",
      "3.| Choose a bit Higher Number\n",
      "\n",
      "4.| Choose a bit Lower Number\n",
      "\n",
      "5.| Choose a bit Lower Number\n",
      "\n",
      "6.| Choose a bit Lower Number\n",
      "\n",
      "7.| Choose a bit Lower Number\n",
      "\n",
      "8.| Choose a bit Higher Number\n",
      "\n",
      "9.| Choose a bit Higher Number\n",
      "\n",
      "10.| Choose a bit Lower Number\n",
      "\n",
      "11.| Choose a bit Lower Number\n",
      "\n",
      "12.| Choose a bit Lower Number\n",
      "\n",
      "13.| Choose a bit Lower Number\n",
      "\n",
      "14.| Choose a bit Higher Number\n",
      "\n",
      "15.| Choose a bit Higher Number\n",
      "\n",
      "16.| You've GUESSED the Right Number\n",
      "Attempts: 16\n"
     ]
    }
   ],
   "source": [
    "import random\n",
    "jackpot = random.randint(1, 100)\n",
    "count = 0\n",
    "serial_num = count\n",
    "n = 0\n",
    "\n",
    "while n != jackpot:\n",
    "        print(f\"{serial_num+1}.|\", end = \" \")\n",
    "        n = int(input(\"Enter a Number:\"))\n",
    "        if n < jackpot:\n",
    "                print(\"Choose a bit Higher Number\\n\")\n",
    "                count += 1\n",
    "                serial_num += 1\n",
    "                continue\n",
    "        if n > jackpot:\n",
    "                print(\"Choose a bit Lower Number\\n\")\n",
    "                count += 1\n",
    "                serial_num += 1\n",
    "                continue\n",
    "        else: \n",
    "                print(\"You've GUESSED the Right Number\")\n",
    "                count += 1\n",
    "                serial_num += 1\n",
    "                break\n",
    "\n",
    "print(\"Attempts:\", count)"
   ]
  }
 ],
 "metadata": {
  "kernelspec": {
   "display_name": "python_basics",
   "language": "python",
   "name": "python3"
  },
  "language_info": {
   "codemirror_mode": {
    "name": "ipython",
    "version": 3
   },
   "file_extension": ".py",
   "mimetype": "text/x-python",
   "name": "python",
   "nbconvert_exporter": "python",
   "pygments_lexer": "ipython3",
   "version": "3.10.18"
  }
 },
 "nbformat": 4,
 "nbformat_minor": 5
}
