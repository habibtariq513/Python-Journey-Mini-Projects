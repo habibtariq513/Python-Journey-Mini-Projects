{
 "cells": [
  {
   "cell_type": "markdown",
   "id": "1565b105",
   "metadata": {},
   "source": [
    "# **Fizz Buzz Algorithm**"
   ]
  },
  {
   "cell_type": "code",
   "execution_count": 11,
   "id": "c5238e8f",
   "metadata": {},
   "outputs": [
    {
     "name": "stdout",
     "output_type": "stream",
     "text": [
      "Fizz_Buzz\n"
     ]
    }
   ],
   "source": [
    "def Fizz_Buzz(num):    \n",
    "    if num % 3 == 0 and num % 5 == 0:\n",
    "        return \"Fizz_Buzz\"\n",
    "    elif num % 5 == 0:\n",
    "        return \"Buzz\"\n",
    "    elif num % 3 == 0:\n",
    "        return \"Fizz\"\n",
    "    else:\n",
    "        return num\n",
    "\n",
    "\n",
    "number = int(input(\"Enter a number: \"))\n",
    "print(Fizz_Buzz(number))"
   ]
  }
 ],
 "metadata": {
  "kernelspec": {
   "display_name": "python_basics",
   "language": "python",
   "name": "python3"
  },
  "language_info": {
   "codemirror_mode": {
    "name": "ipython",
    "version": 3
   },
   "file_extension": ".py",
   "mimetype": "text/x-python",
   "name": "python",
   "nbconvert_exporter": "python",
   "pygments_lexer": "ipython3",
   "version": "3.10.18"
  }
 },
 "nbformat": 4,
 "nbformat_minor": 5
}
