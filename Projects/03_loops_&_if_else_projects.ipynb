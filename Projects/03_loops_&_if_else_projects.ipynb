{
 "cells": [
  {
   "cell_type": "markdown",
   "id": "f4638ebf",
   "metadata": {},
   "source": [
    "# **Student Report Project**\n",
    " - Variables\n",
    " - Type Casting\n",
    " - List, Tuple, Dictionary\n",
    " - Indexing & Slicing\n",
    " - range()\n",
    " - if / else / elif\n",
    " - loops"
   ]
  },
  {
   "cell_type": "code",
   "execution_count": 5,
   "id": "d43f3b3e",
   "metadata": {},
   "outputs": [
    {
     "name": "stdout",
     "output_type": "stream",
     "text": [
      "=== 🎓 Student Marks & Grade Report System 🎓 ===\n",
      "==================================================\n",
      "\n",
      "Name         Marks      Grade     \n",
      "----------------------------------------------\n",
      "Habib       33        F         \n",
      "Latif       29        F         \n",
      "----------------------------------------------\n",
      "Total Students: 2\n",
      "Average Marks:  31.00\n",
      "Highest Marks: 33\n",
      "Lowest Marks: 29\n",
      "===============================================\n",
      "\n",
      "Thank you for using the Student Marks & Grade Report System! 🎉\n"
     ]
    }
   ],
   "source": [
    "print(\"=== 🎓 Student Marks & Grade Report System 🎓 ===\")\n",
    "print(\"==================================================\\n\")\n",
    "student_count = int(input(\"How many Students are there:\"))\n",
    "\n",
    "student_names = []\n",
    "student_marks = []\n",
    "\n",
    "for i in range(student_count):\n",
    "    name = input(\"Enter Your Name:\") \n",
    "    student_names.append(name)\n",
    "    marks = int(input(\"Enter Your Marks:\"))\n",
    "    student_marks.append(marks)    \n",
    "\n",
    "# Dictionary\n",
    "student_report = {\n",
    "    \"Names\" : student_names,\n",
    "    \"Marks\" : student_marks\n",
    "}    \n",
    "\n",
    "print(\"{:<12} {:<10} {:<10}\".format(\"Name\", \"Marks\", \"Grade\"))\n",
    "print(\"----------------------------------------------\")\n",
    "for i in range(student_count):\n",
    "    if student_marks[i] >= 80:            \n",
    "        grade = \"A\"        \n",
    "    elif student_marks[i] >= 70:    \n",
    "        grade = \"B\"     \n",
    "    elif student_marks[i] >= 60:\n",
    "        grade = \"C\"\n",
    "    else: \n",
    "        grade = \"F\"\n",
    "\n",
    "    print(f\"{student_names[i]:<12}{student_marks[i]:<10}{grade:<10}\")\n",
    "\n",
    " \n",
    "\n",
    "print(\"----------------------------------------------\")\n",
    "print(\"Total Students:\", student_count)\n",
    "Average_Marks = sum(student_marks) / student_count\n",
    "print(f\"Average Marks: {Average_Marks: .2f}\")\n",
    "print(\"Highest Marks:\", max(student_marks))\n",
    "print(\"Lowest Marks:\", min(student_marks))\n",
    "print(\"===============================================\\n\")\n",
    "print(\"Thank you for using the Student Marks & Grade Report System! 🎉\")"
   ]
  },
  {
   "cell_type": "markdown",
   "id": "cc95018b",
   "metadata": {},
   "source": [
    "# **🛒 Simple Grocery Billing System 🛒**"
   ]
  },
  {
   "cell_type": "code",
   "execution_count": 4,
   "id": "4d2e704f",
   "metadata": {},
   "outputs": [
    {
     "name": "stdout",
     "output_type": "stream",
     "text": [
      "=== 🛒 Simple Grocery Billing System 🛒 ===\n",
      "==================================================\n",
      "\n",
      "=== 📝 Grocery Bill Summary 📝===\n",
      "Item         Price      Quantity   Subtotal  \n",
      "----------------------------------------------\n",
      "Apple       50          24          1200        \n",
      "Mango       30          24          720         \n",
      "Banana      20          24          480         \n",
      "----------------------------------------------\n",
      "Total Before Discount:  2400.00\n",
      "Discount Applied: 10%\n",
      "Total After Discount: 2160.00\n",
      "===============================================\n",
      "\n",
      "Thank you for shopping with us! 🛍️\n"
     ]
    }
   ],
   "source": [
    "print(\"=== 🛒 Simple Grocery Billing System 🛒 ===\")\n",
    "print(\"==================================================\")\n",
    "item_count = int(input(\"How many Items You want to enter:\"))\n",
    "\n",
    "item_names = []\n",
    "item_prices = []\n",
    "item_quantities = []\n",
    "subtotal_amount = []\n",
    "\n",
    "for i in range(item_count):\n",
    "    name = input(\"Enter Item Name:\") \n",
    "    item_names.append(name)\n",
    "    price = int(input(\"Enter Its Price:\"))\n",
    "    item_prices.append(price)    \n",
    "    quantity = int(input(\"Enter Its Quantity:\"))\n",
    "    item_quantities.append(quantity)       \n",
    "\n",
    "# Calculate subtotal for each item\n",
    "for i in range(item_count):\n",
    "    sub_total = item_prices[i] * item_quantities[i] \n",
    "    subtotal_amount.append(sub_total)\n",
    "\n",
    "total_amount = sum(subtotal_amount)  # Total amount of all items\n",
    "\n",
    "# Header\n",
    "print(\"\\n=== 📝 Grocery Bill Summary 📝===\")\n",
    "print(\"{:<12} {:<10} {:<10} {:<10}\".format(\"Item\", \"Price\", \"Quantity\", \"Subtotal\"))\n",
    "print(\"----------------------------------------------\")\n",
    "\n",
    "# Displaying the bill summary\n",
    "for i in range(item_count):\n",
    "    print(f\"{item_names[i]:<12}{item_prices[i]:<12}{item_quantities[i]:<12}{subtotal_amount[i]:<12}\")\n",
    "\n",
    "print(\"----------------------------------------------\")\n",
    "\n",
    "# Discount Calculation\n",
    "if total_amount >= 1000:\n",
    "    print(f\"Total Before Discount: {total_amount: .2f}\")\n",
    "    discounted_price = (10/100) * total_amount\n",
    "    total_amount -= discounted_price\n",
    "    print(\"Discount Applied: 10%\")\n",
    "    print(f\"Total After Discount: {total_amount:.2f}\")\n",
    "elif total_amount >= 500:    \n",
    "    print(\"Total Before Discount:\", total_amount)\n",
    "    discounted_price = (5/100) * total_amount\n",
    "    total_amount -= discounted_price         \n",
    "    print(\"Discount Applied: 5%\")\n",
    "    print(f\"Total After Discount: {total_amount:.2f}\")\n",
    "else: \n",
    "        print(\"No Discount Applied\")\n",
    "        print(f\"Total Amount: {total_amount:.2f}\")\n",
    "        \n",
    "print(\"===============================================\\n\")\n",
    "print(\"Thank you for shopping with us! 🛍️\")"
   ]
  }
 ],
 "metadata": {
  "kernelspec": {
   "display_name": "python_basics",
   "language": "python",
   "name": "python3"
  },
  "language_info": {
   "codemirror_mode": {
    "name": "ipython",
    "version": 3
   },
   "file_extension": ".py",
   "mimetype": "text/x-python",
   "name": "python",
   "nbconvert_exporter": "python",
   "pygments_lexer": "ipython3",
   "version": "3.10.18"
  }
 },
 "nbformat": 4,
 "nbformat_minor": 5
}
