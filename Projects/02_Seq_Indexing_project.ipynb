{
 "cells": [
  {
   "cell_type": "markdown",
   "id": "d6267dd6",
   "metadata": {},
   "source": [
    "# Contact Book\n",
    "  - Type Casting\n",
    "  - List\n",
    "  - Tuple\n",
    "  - Dictionary\n",
    "  - Set\n",
    "  - Sequence Operations (Length operation(len()), Membership Test(Using not in, in), Repetition and Concatenation)\n",
    "  - Indexing \n"
   ]
  },
  {
   "cell_type": "code",
   "execution_count": 15,
   "id": "03b14dba",
   "metadata": {},
   "outputs": [
    {
     "name": "stdout",
     "output_type": "stream",
     "text": [
      "=== Phone Book Application ===\n",
      "\n",
      "=== Contact Details ===\n",
      "                          \n",
      "User Data:  ['Hbvib', '03123456', 'habib@exp.com']\n",
      "Tuple Data:  ('Name', 'Phone', 'E-mail')\n",
      "{'Name': 'Hbvib', 'Phone': '03123456', 'E-mail': 'habib@exp.com'}\n",
      "Set Data:  {'Phone', 'Name', 'E-mail'}\n",
      "length of a number:  3\n",
      "Membership Test:  True\n",
      "                          \n",
      "=== End of Application ===\n"
     ]
    }
   ],
   "source": [
    "print(\"=== Phone Book Application ===\")\n",
    "name = input(\"Enter your name: \")\n",
    "phone_number = input(\"Enter your phone number: \")\n",
    "email = input(\"Enter your E-mail: \")\n",
    "\n",
    "#List Implementation\n",
    "List_imp = [name, phone_number, email]\n",
    "\n",
    "#Tuple Implementation\n",
    "Tuple_imp = (\"Name\", \"Phone\", \"E-mail\")\n",
    "\n",
    "#Dictionary Implementation\n",
    "Dictonary = {\n",
    "    \"Name\" : List_imp[0],\n",
    "    \"Phone\" : List_imp[1],\n",
    "    \"E-mail\" : List_imp[2]\n",
    "}\n",
    "\n",
    "# Set Implementation\n",
    "Set_imp = set(Dictonary.keys())\n",
    "\n",
    "#Sequence Operartion(len())\n",
    "no_of_contact = len(Dictonary)\n",
    "\n",
    "# Membership Test\n",
    "membership_test = \"Name\" in Dictonary \n",
    "\n",
    "#Printing the results\n",
    "print(\"\\n=== Contact Details ===\")\n",
    "print(\"                          \")\n",
    "print(\"User Data: \", List_imp)\n",
    "print(\"Tuple Data: \", Tuple_imp)\n",
    "print(Dictonary)\n",
    "print(\"Set Data: \", Set_imp)\n",
    "print(\"length of a number: \", no_of_contact)\n",
    "print(\"Membership Test: \", membership_test)\n",
    "print(\"                          \")\n",
    "print(\"=== End of Application ===\")\n"
   ]
  },
  {
   "cell_type": "markdown",
   "id": "06eded5f",
   "metadata": {},
   "source": [
    "# **Grocery Shopping List Organizer**"
   ]
  },
  {
   "cell_type": "code",
   "execution_count": 29,
   "id": "0bd7cee3",
   "metadata": {},
   "outputs": [
    {
     "name": "stdout",
     "output_type": "stream",
     "text": [
      "=== Grocery Shopping List Organizer ===\n",
      "\n",
      "=== Grocery Shopping List ===\n",
      "Grocery Items:  ['Apples', 5, 'Milk', 2, 'Bread', 1]\n",
      "\n",
      "Grocery Items with Quantities\n",
      " - Apples Quantity:  5 Items\n",
      " - Milk Quantity:  2 Items\n",
      " - Bread Quantity:  1 Items\n",
      "\n",
      "Grocery Categories:  ('Fruits', 'Dairy', 'Snacks')\n",
      "Grocery Item's Data: {'Apples': ['Fruits', 5], 'Milk': ['Dairy', 2], 'Bread': ['Snacks', 1]}\n",
      "Unique Items: {'Bread', 'Milk', 'Apples'}\n",
      "Total Items: 6\n",
      "Total Items in list: ['Apples', 5, 'Milk', 2, 'Bread', 1, 'Eggs', 12]\n",
      "Repeated Item: ['Eggs', 'Eggs']\n",
      "Selected Item: ['Fruits', 5]\n",
      "Is Apples present in Grocery List?: True\n"
     ]
    }
   ],
   "source": [
    "print(\"=== Grocery Shopping List Organizer ===\")\n",
    "\n",
    "#List Implementation\n",
    "grocery_items = [\"Apples\", 5, \"Milk\", 2, \"Bread\", 1]\n",
    "\n",
    "#Type Casting Implementation\n",
    "grocery_items_1 = int(grocery_items[1])\n",
    "grocery_items_2 = int(grocery_items[3])\n",
    "grocery_items_3 = int(grocery_items[5])\n",
    "\n",
    "#Tuple Implementation\n",
    "grocery_categories = (\"Fruits\", \"Dairy\", \"Snacks\")\n",
    "\n",
    "#Dictionary Implementation\n",
    "grocery_dict = {\n",
    "    \"Apples\" : [\"Fruits\", grocery_items_1],\n",
    "    \"Milk\" : [\"Dairy\", grocery_items_2],\n",
    "    \"Bread\" : [\"Snacks\", grocery_items_3]\n",
    "}\n",
    "\n",
    "# Set Implementation\n",
    "unique_items = set(grocery_dict.keys())\n",
    "\n",
    "#Sequence Operation (len())\n",
    "total_items = len(grocery_items)\n",
    "\n",
    "# Membership Test\n",
    "is_item_present = \"Apples\" in unique_items\n",
    "\n",
    "# Concatenation\n",
    "total_list_items = grocery_items + [\"Eggs\", 12]\n",
    "\n",
    "# Repetition\n",
    "duplicate_item = [\"Eggs\"] * 2\n",
    "\n",
    "# Printing the results\n",
    "print(\"\\n=== Grocery Shopping List ===\")\n",
    "print(\"Grocery Items: \", grocery_items)\n",
    "print(\"\\nGrocery Items with Quantities\")\n",
    "print(\" -\", grocery_items[0], \"Quantity: \", grocery_items_1, \"Items\")\n",
    "print(\" -\", grocery_items[2], \"Quantity: \", grocery_items_2, \"Items\")\n",
    "print(\" -\", grocery_items[4], \"Quantity: \", grocery_items_3, \"Items\")\n",
    "print(\"\\nGrocery Categories: \", grocery_categories)\n",
    "print(\"Grocery Item's Data:\", grocery_dict)\n",
    "print(\"Unique Items:\", unique_items)\n",
    "print(\"Total Items:\", total_items)\n",
    "print(\"Total Items in list:\", total_list_items)\n",
    "print(\"Repeated Item:\", duplicate_item)\n",
    "print(\"Selected Item:\", grocery_dict[\"Apples\"]) # Indexing\n",
    "print(\"Is\",grocery_items[0], \"present in Grocery List?:\", is_item_present) "
   ]
  }
 ],
 "metadata": {
  "kernelspec": {
   "display_name": "python_basics",
   "language": "python",
   "name": "python3"
  },
  "language_info": {
   "codemirror_mode": {
    "name": "ipython",
    "version": 3
   },
   "file_extension": ".py",
   "mimetype": "text/x-python",
   "name": "python",
   "nbconvert_exporter": "python",
   "pygments_lexer": "ipython3",
   "version": "3.10.18"
  }
 },
 "nbformat": 4,
 "nbformat_minor": 5
}
