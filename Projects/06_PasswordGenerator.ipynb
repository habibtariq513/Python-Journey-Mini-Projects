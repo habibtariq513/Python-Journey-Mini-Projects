{
 "cells": [
  {
   "cell_type": "markdown",
   "id": "fc3ecb11",
   "metadata": {},
   "source": [
    "# **Random Password Generator**"
   ]
  },
  {
   "cell_type": "code",
   "execution_count": 32,
   "id": "d8dc29ab",
   "metadata": {},
   "outputs": [
    {
     "name": "stdout",
     "output_type": "stream",
     "text": [
      "]ovlX;b9x5W>\n"
     ]
    }
   ],
   "source": [
    "import random\n",
    "import string\n",
    "\n",
    "pass_len = 12\n",
    "char_var = string.digits + string.ascii_letters + string.punctuation\n",
    "\n",
    "password = \"\"\n",
    "for i in range(pass_len):\n",
    "    password += random.choice(char_var)\n",
    "print(password)\n"
   ]
  }
 ],
 "metadata": {
  "kernelspec": {
   "display_name": "python_basics",
   "language": "python",
   "name": "python3"
  },
  "language_info": {
   "codemirror_mode": {
    "name": "ipython",
    "version": 3
   },
   "file_extension": ".py",
   "mimetype": "text/x-python",
   "name": "python",
   "nbconvert_exporter": "python",
   "pygments_lexer": "ipython3",
   "version": "3.10.18"
  }
 },
 "nbformat": 4,
 "nbformat_minor": 5
}
