{
 "cells": [
  {
   "cell_type": "markdown",
   "id": "4f5a0b9a",
   "metadata": {},
   "source": [
    "\n",
    "#                                                   **Mini Projects** "
   ]
  },
  {
   "cell_type": "markdown",
   "id": "67869284",
   "metadata": {},
   "source": [
    "# 1) Currency Converter\n",
    "  - Variables\n",
    "  - Type Casting\n"
   ]
  },
  {
   "cell_type": "code",
   "execution_count": 10,
   "id": "7121da59",
   "metadata": {},
   "outputs": [
    {
     "name": "stdout",
     "output_type": "stream",
     "text": [
      "7000:  24.688 USD\n",
      "7000:  18.373 GBP\n"
     ]
    }
   ],
   "source": [
    "# Ask the user for the amount in PKR.\n",
    "pkr_amount = input(\"Enter Amouunt (in PKR):\")\n",
    "\n",
    "# Convert input strings to numbers for calculation.\n",
    "pkr_amount_float = float(pkr_amount)  \n",
    "\n",
    "# Ask for the exchange rate (e.g., PKR → USD).\n",
    "usd_amount = pkr_amount_float / 283.54    # Assuming 1 USD = 283.54 PKR\n",
    "gbp_amount = pkr_amount_float / 381.00  # Assuming 1 GBP = 381.00 PKR\n",
    "\n",
    "# Show the converted amount\n",
    "print(f\"{pkr_amount}: {usd_amount: .3f} USD\")\n",
    "print(f\"{pkr_amount}: {gbp_amount: .3f} GBP\")\n"
   ]
  },
  {
   "cell_type": "markdown",
   "id": "1e244a79",
   "metadata": {},
   "source": [
    "# 2) Fuel Cost & Distance Calculator 🚗\n",
    "  - Variables\n",
    "  - Type Casting"
   ]
  },
  {
   "cell_type": "code",
   "execution_count": 2,
   "id": "33e6d5c7",
   "metadata": {},
   "outputs": [
    {
     "name": "stdout",
     "output_type": "stream",
     "text": [
      "Total Litres needed: 0.40 litres\n",
      "Total Cost (in PKR): 105.60 PKR\n"
     ]
    }
   ],
   "source": [
    "# Ask user for the distance they plan to travel (km).\n",
    "distance = float(input(\"Enter Distance (in km):\"))\n",
    "\n",
    "# Ask for their car’s fuel efficiency (km per litre).\n",
    "fuel_efficieny = float(input(\"Enter Fuel Efficiency (in km/l):\"))\n",
    "\n",
    "# Ask for fuel price per litre (in PKR).\n",
    "fuel_price = float(input(\"Enter Fuel Price (in PKR/l):\"))\n",
    "\n",
    "# Calculations:\n",
    "total_litres = distance / fuel_efficieny\n",
    "total_cost = total_litres * fuel_price\n",
    "\n",
    "print(f\"Total Litres needed: {total_litres:.2f} litres\")\n",
    "print(f\"Total Cost (in PKR): {total_cost:.2f} PKR\")"
   ]
  },
  {
   "cell_type": "markdown",
   "id": "ddf4f34c",
   "metadata": {},
   "source": [
    "# 3) BMI (Body Mass Index) Calculator 🏋️‍♂️\n",
    "  - Variables\n",
    "  - Type Casting"
   ]
  },
  {
   "cell_type": "code",
   "execution_count": 7,
   "id": "d256cea6",
   "metadata": {},
   "outputs": [
    {
     "name": "stdout",
     "output_type": "stream",
     "text": [
      "Your BMI: 0.08\n"
     ]
    }
   ],
   "source": [
    "# Ask for height (in meters).\n",
    "height = eval(input(\"Enter Height (in m):\"))\n",
    "\n",
    "# Ask for weight (in kg).\n",
    "weight = eval(input(\"Enter Weight (in kg):\"))\n",
    "\n",
    "# Calculations:\n",
    "BMI = weight / (height ** 2)\n",
    "print(f\"Your BMI: {BMI:.2f}\")"
   ]
  },
  {
   "cell_type": "markdown",
   "id": "f160b06e",
   "metadata": {},
   "source": [
    "# 4) Expense Tracker\n",
    "  - Variables\n",
    "  - Type Casting\n",
    "  - List, Tuple, Dictionary, Set"
   ]
  },
  {
   "cell_type": "code",
   "execution_count": 1,
   "id": "4621c8c9",
   "metadata": {},
   "outputs": [
    {
     "name": "stdout",
     "output_type": "stream",
     "text": [
      "                               \n",
      "Detail:-\n",
      "                               \n",
      "*~ Dictionary of Expenses:  {'food': 22.0, 'transport': 33.0, 'entertainment': 55.0}\n",
      "*~ List of Expenses:  [22.0, 33.0, 55.0]\n",
      "*~ Total of All Expenses:  [110.0]\n",
      "*~ Categories:  ('food', 'transport', 'entertainment')\n",
      "*~ Unique Categories:  {'transport', 'entertainment', 'food'}\n"
     ]
    }
   ],
   "source": [
    "food_exp = float(input(\"Enter Food expenses: \"))\n",
    "transport_exp = float(input(\"Enter Transport expenses: \"))\n",
    "entertainment_exp = float(input(\"Enter Entertainment expenses: \"))\n",
    "\n",
    "# List Implementation\n",
    "expense_items = [food_exp, transport_exp, entertainment_exp]\n",
    "\n",
    "# Tuple Implementation\n",
    "categories = (\"food\", \"transport\", \"entertainment\")\n",
    "\n",
    "# Dictionary Implementation\n",
    "dictionary = {\n",
    "    \"food\" : food_exp,\n",
    "    \"transport\" : transport_exp,\n",
    "    \"entertainment\" : entertainment_exp\n",
    "}\n",
    "\n",
    "# Set Implementation\n",
    "unique_categories = set(dictionary.keys())\n",
    "\n",
    "# Total Expenses\n",
    "total_expenses = [expense_items[0] + expense_items[1] + expense_items[2]]\n",
    "\n",
    "print(\"                               \")\n",
    "print(\"Detail:-\")\n",
    "print(\"                               \")\n",
    "print(\"*~ Dictionary of Expenses: \", dictionary)\n",
    "print(\"*~ List of Expenses: \", expense_items)\n",
    "print(\"*~ Total of All Expenses: \", total_expenses)\n",
    "print(\"*~ Categories: \", categories)\n",
    "print(\"*~ Unique Categories: \", unique_categories)\n"
   ]
  }
 ],
 "metadata": {
  "kernelspec": {
   "display_name": "python_basics",
   "language": "python",
   "name": "python3"
  },
  "language_info": {
   "codemirror_mode": {
    "name": "ipython",
    "version": 3
   },
   "file_extension": ".py",
   "mimetype": "text/x-python",
   "name": "python",
   "nbconvert_exporter": "python",
   "pygments_lexer": "ipython3",
   "version": "3.10.18"
  }
 },
 "nbformat": 4,
 "nbformat_minor": 5
}
